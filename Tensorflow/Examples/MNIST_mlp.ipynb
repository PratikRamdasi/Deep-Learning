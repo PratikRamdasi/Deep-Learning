{
 "cells": [
  {
   "cell_type": "code",
   "execution_count": 1,
   "metadata": {
    "collapsed": true
   },
   "outputs": [],
   "source": [
    "'''\n",
    "Author - Pratik Ramdasi\n",
    "Date - 03/26/2017\n",
    "Project Title - Tensorflow practice with Multilayer Perceptron model in tensorflow\n",
    "\n",
    "'''\n",
    "## MNIST Classification using Tensorflow - Multilayer Perceptron (MLP) model\n",
    "# import libraries\n",
    "import tensorflow as tf\n",
    "import numpy as np\n",
    "from tensorflow.examples.tutorials.mnist import input_data"
   ]
  },
  {
   "cell_type": "code",
   "execution_count": 2,
   "metadata": {
    "collapsed": false
   },
   "outputs": [
    {
     "name": "stdout",
     "output_type": "stream",
     "text": [
      "Extracting MNIST_data/train-images-idx3-ubyte.gz\n",
      "Extracting MNIST_data/train-labels-idx1-ubyte.gz\n",
      "Extracting MNIST_data/t10k-images-idx3-ubyte.gz\n",
      "Extracting MNIST_data/t10k-labels-idx1-ubyte.gz\n"
     ]
    }
   ],
   "source": [
    "# Get input MNIST data\n",
    "mnist = input_data.read_data_sets(\"MNIST_data/\", one_hot=True)"
   ]
  },
  {
   "cell_type": "code",
   "execution_count": 20,
   "metadata": {
    "collapsed": false
   },
   "outputs": [],
   "source": [
    "# Parameters\n",
    "learning_rate = 0.001\n",
    "batch_size = 128\n",
    "training_epochs = 50\n",
    "display_step = 1\n",
    "\n",
    "# Network Parameters\n",
    "n_input = 784 # Mnist data input (image size = 28*28)\n",
    "n_hidden1 = 256 # First layer features\n",
    "n_hidden2 = 256 # Second layer features\n",
    "n_hidden3 = 128 # Third layer features\n",
    "n_classes = 10 # digits (0-9)\n",
    "\n",
    "# TF graph input\n",
    "x = tf.placeholder(tf.float32, [None, n_input])\n",
    "y = tf.placeholder(tf.float32, [None, n_classes])\n",
    "\n",
    "# MLP model\n",
    "def multilayer_perceptron(x, weights, biases):\n",
    "    # Hidden layer - 1 with Relu \n",
    "    layer1 = tf.add(tf.matmul(x, weights['w1']), biases['b1'])\n",
    "    layer1 = tf.nn.relu(layer1)\n",
    "    # Hidden layer - 2 with Relu\n",
    "    layer2 = tf.add(tf.matmul(layer1, weights['w2']), biases['b2'])\n",
    "    layer2 = tf.nn.relu(layer2) \n",
    "    # Hidden layer - 3 with Relu\n",
    "    layer3 = tf.add(tf.matmul(layer2, weights['w3']), biases['b3'])\n",
    "    layer3 = tf.nn.relu(layer3)\n",
    "    # Output layer with activation\n",
    "    out_layer = tf.matmul(layer3, weights['out']) + biases['out']\n",
    "    return out_layer "
   ]
  },
  {
   "cell_type": "code",
   "execution_count": 21,
   "metadata": {
    "collapsed": false
   },
   "outputs": [],
   "source": [
    "# Define weights and biases for each layer\n",
    "weights = {\n",
    "    'w1': tf.Variable(tf.random_normal([n_input, n_hidden1])),\n",
    "    'w2': tf.Variable(tf.random_normal([n_hidden1, n_hidden2])),\n",
    "    'w3': tf.Variable(tf.random_normal([n_hidden2, n_hidden3])),\n",
    "    'out': tf.Variable(tf.random_normal([n_hidden3, n_classes]))\n",
    "}\n",
    "\n",
    "biases = {\n",
    "    'b1': tf.Variable(tf.random_normal([n_hidden1])),\n",
    "    'b2': tf.Variable(tf.random_normal([n_hidden2])),\n",
    "    'b3': tf.Variable(tf.random_normal([n_hidden3])),\n",
    "    'out': tf.Variable(tf.random_normal([n_classes]))\n",
    "}\n",
    "\n",
    "# construct model\n",
    "pred = multilayer_perceptron(x, weights, biases)\n",
    "\n",
    "# Define loss and optimizer\n",
    "cost = tf.reduce_mean(tf.nn.softmax_cross_entropy_with_logits(logits=pred, labels=y))\n",
    "optimizer = tf.train.AdamOptimizer(learning_rate=learning_rate).minimize(cost)\n",
    "\n",
    "# Test model\n",
    "predictions = tf.equal(tf.argmax(pred, 1), tf.argmax(y, 1))\n",
    "accuracy = tf.reduce_mean(tf.cast(predictions, tf.float32))\n",
    "\n",
    "# Initialize the variables\n",
    "init = tf.global_variables_initializer()"
   ]
  },
  {
   "cell_type": "code",
   "execution_count": 22,
   "metadata": {
    "collapsed": false
   },
   "outputs": [
    {
     "name": "stdout",
     "output_type": "stream",
     "text": [
      "Epoch: 0001 Cost: 1368.704952640\n",
      "Epoch: 0002 Cost: 304.826999229\n",
      "Epoch: 0003 Cost: 187.016053006\n",
      "Epoch: 0004 Cost: 131.999968422\n",
      "Epoch: 0005 Cost: 95.882358773\n",
      "Epoch: 0006 Cost: 72.257605250\n",
      "Epoch: 0007 Cost: 53.753073896\n",
      "Epoch: 0008 Cost: 40.990708226\n",
      "Epoch: 0009 Cost: 30.901745524\n",
      "Epoch: 0010 Cost: 23.849235948\n",
      "Epoch: 0011 Cost: 18.300443392\n",
      "Epoch: 0012 Cost: 13.953161748\n",
      "Epoch: 0013 Cost: 10.885631365\n",
      "Epoch: 0014 Cost: 8.270762832\n",
      "Epoch: 0015 Cost: 7.166255761\n",
      "Epoch: 0016 Cost: 5.375426437\n",
      "Epoch: 0017 Cost: 4.233422180\n",
      "Epoch: 0018 Cost: 3.686145003\n",
      "Epoch: 0019 Cost: 3.879279797\n",
      "Epoch: 0020 Cost: 3.556526096\n",
      "Epoch: 0021 Cost: 3.166538855\n",
      "Epoch: 0022 Cost: 2.727190520\n",
      "Epoch: 0023 Cost: 2.897836410\n",
      "Epoch: 0024 Cost: 2.826661554\n",
      "Epoch: 0025 Cost: 2.469126957\n",
      "Epoch: 0026 Cost: 2.297414682\n",
      "Epoch: 0027 Cost: 2.262003775\n",
      "Epoch: 0028 Cost: 2.107892684\n",
      "Epoch: 0029 Cost: 2.412059908\n",
      "Epoch: 0030 Cost: 1.776751597\n",
      "Epoch: 0031 Cost: 2.203920630\n",
      "Epoch: 0032 Cost: 2.080749236\n",
      "Epoch: 0033 Cost: 1.491210882\n",
      "Epoch: 0034 Cost: 2.241416648\n",
      "Epoch: 0035 Cost: 2.414857741\n",
      "Epoch: 0036 Cost: 1.332753329\n",
      "Epoch: 0037 Cost: 1.531411594\n",
      "Epoch: 0038 Cost: 1.348613864\n",
      "Epoch: 0039 Cost: 1.548045860\n",
      "Epoch: 0040 Cost: 1.590550615\n",
      "Epoch: 0041 Cost: 1.147108342\n",
      "Epoch: 0042 Cost: 1.422450357\n",
      "Epoch: 0043 Cost: 1.407193133\n",
      "Epoch: 0044 Cost: 0.823595129\n",
      "Epoch: 0045 Cost: 1.619995111\n",
      "Epoch: 0046 Cost: 1.510298635\n",
      "Epoch: 0047 Cost: 1.504323463\n",
      "Epoch: 0048 Cost: 1.392751263\n",
      "Epoch: 0049 Cost: 1.465653418\n",
      "Epoch: 0050 Cost: 1.139180827\n",
      "Optimization Finished!\n",
      "Testing Accuracy:  0.9594\n"
     ]
    }
   ],
   "source": [
    "# Run the model graph\n",
    "with tf.Session() as sess:\n",
    "    sess.run(init)\n",
    "    \n",
    "    # Training cycle\n",
    "    for epoch in range(training_epochs):\n",
    "        avg_cost= 0.\n",
    "        total_batch = int(mnist.train.num_examples/batch_size)\n",
    "        # loop over all batches\n",
    "        for i in range(total_batch):\n",
    "            batch_x, batch_y = mnist.train.next_batch(batch_size)\n",
    "            _, c = sess.run([optimizer, cost], feed_dict={x: batch_x, y: batch_y})\n",
    "            \n",
    "            # compute average loss\n",
    "            avg_cost += c / total_batch\n",
    "            \n",
    "        # Display logs for each batch\n",
    "        if epoch % display_step == 0:\n",
    "            print \"Epoch:\", '%04d' % (epoch+1), \"Cost:\", \"{:.9f}\".format(avg_cost)\n",
    "    print \"Optimization Finished!\"\n",
    "    \n",
    "    # Calculate accuracy for 256 mnist test images\n",
    "    print \"Testing Accuracy: \", \\\n",
    "        sess.run(accuracy, feed_dict={x: mnist.test.images, y: mnist.test.labels})"
   ]
  },
  {
   "cell_type": "code",
   "execution_count": 16,
   "metadata": {
    "collapsed": false
   },
   "outputs": [
    {
     "name": "stdout",
     "output_type": "stream",
     "text": [
      "Finished!\n"
     ]
    }
   ],
   "source": [
    "print \"Finished!\""
   ]
  },
  {
   "cell_type": "code",
   "execution_count": null,
   "metadata": {
    "collapsed": true
   },
   "outputs": [],
   "source": []
  }
 ],
 "metadata": {
  "kernelspec": {
   "display_name": "Python 2",
   "language": "python",
   "name": "python2"
  },
  "language_info": {
   "codemirror_mode": {
    "name": "ipython",
    "version": 2
   },
   "file_extension": ".py",
   "mimetype": "text/x-python",
   "name": "python",
   "nbconvert_exporter": "python",
   "pygments_lexer": "ipython2",
   "version": "2.7.11rc1"
  }
 },
 "nbformat": 4,
 "nbformat_minor": 2
}
